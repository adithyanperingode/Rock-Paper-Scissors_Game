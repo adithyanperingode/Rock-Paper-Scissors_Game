{
  "nbformat": 4,
  "nbformat_minor": 0,
  "metadata": {
    "colab": {
      "name": "Rock Paper Scissors_Game.ipynb",
      "provenance": [],
      "authorship_tag": "ABX9TyOuKth+XDUEueAtYiCSWmG6",
      "include_colab_link": true
    },
    "kernelspec": {
      "name": "python3",
      "display_name": "Python 3"
    },
    "language_info": {
      "name": "python"
    }
  },
  "cells": [
    {
      "cell_type": "markdown",
      "metadata": {
        "id": "view-in-github",
        "colab_type": "text"
      },
      "source": [
        "<a href=\"https://colab.research.google.com/github/adithyanperingode/Rock-Paper-Scissors_Game/blob/main/Rock_Paper_Scissors_Game.ipynb\" target=\"_parent\"><img src=\"https://colab.research.google.com/assets/colab-badge.svg\" alt=\"Open In Colab\"/></a>"
      ]
    },
    {
      "cell_type": "code",
      "execution_count": null,
      "metadata": {
        "id": "PhYiNOBisvXn"
      },
      "outputs": [],
      "source": [
        "import random\n",
        "\n",
        "class Game:\n",
        "    def __init__(self):\n",
        "        # get the computer's pick \n",
        "        self.computer_pick = self.get_computer_pick()\n",
        "        \n",
        "        # get the user's pick\n",
        "        self.user_pick = self.get_user_pick()\n",
        "\n",
        "        # get the result of the game\n",
        "        self.result = self.get_result()     \n",
        "    \n",
        "    def get_computer_pick(self):\n",
        "        # get random number among 1, 2 and 3\n",
        "        random_number = random.randint(1, 3)\n",
        "        \n",
        "        # possible options \n",
        "        options = {1: 'rock', 2: 'paper', 3: 'scissors'}\n",
        "        \n",
        "        # return the value present at random_number\n",
        "        return options[random_number]\n",
        "\n",
        "    def get_user_pick(self):\n",
        "        \n",
        "        # infinite while loop \n",
        "        while True:\n",
        "            user_pick = input('Enter rock/paper/scissors: ')\n",
        "\n",
        "            # convert to lowercase\n",
        "            user_pick = user_pick.lower()\n",
        "\n",
        "            # if user_pick is either rock or paper or scissors,\n",
        "            # terminate the loop\n",
        "            if user_pick in ('rock', 'paper', 'scissors'):\n",
        "                  break\n",
        "            else:\n",
        "                print('Wrong input!')\n",
        "\n",
        "        return user_pick\n",
        "\n",
        "    def get_result(self):\n",
        "        # condition for draw\n",
        "        if self.computer_pick == self.user_pick:\n",
        "            return 'draw'\n",
        "        \n",
        "        # condition for the user to win\n",
        "        elif self.user_pick == 'paper' and self.computer_pick == 'rock':\n",
        "            return 'win'\n",
        "        elif self.user_pick == 'rock' and self.computer_pick == 'scissors':\n",
        "            return 'win'\n",
        "        elif self.user_pick == 'scissors' and self.computer_pick == 'paper':\n",
        "            return 'win'\n",
        "        \n",
        "        # in all other conditions, users lose    \n",
        "        else:\n",
        "            return 'lose'\n",
        "\n",
        "    def print_result(self):\n",
        "        print(f\"Computer's pick: {self.computer_pick}\")\n",
        "        print(f'Your pick: {self.user_pick}')\n",
        "        print(f'You {self.result}')"
      ]
    },
    {
      "cell_type": "code",
      "source": [
        "# create an object of the Game class\n",
        "while True:\n",
        "   game = Game()\n",
        "   game.print_result()\n",
        "\n",
        "   play_again = input('Do you want to play again? (y/n): ')\n",
        "\n",
        "   # if user enter any other character other than y, the game ends\n",
        "   if play_again != 'y':\n",
        "      print('Thank You ! See you again soon dude')\n",
        "      break"
      ],
      "metadata": {
        "id": "sg8CQFTJtV0E"
      },
      "execution_count": null,
      "outputs": []
    }
  ]
}